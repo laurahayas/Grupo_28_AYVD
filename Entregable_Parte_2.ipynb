{
  "nbformat": 4,
  "nbformat_minor": 0,
  "metadata": {
    "colab": {
      "name": "Entregable_Parte_2.ipynb",
      "provenance": [],
      "collapsed_sections": [
        "akPkMZD6kxqZ",
        "Rzxe8UYU6EfJ",
        "useKMdPyMod5"
      ],
      "include_colab_link": true
    },
    "kernelspec": {
      "name": "python3",
      "display_name": "Python 3"
    }
  },
  "cells": [
    {
      "cell_type": "markdown",
      "metadata": {
        "id": "view-in-github",
        "colab_type": "text"
      },
      "source": [
        "<a href=\"https://colab.research.google.com/github/laurahayas/Grupo_28_AYVD/blob/main/Entregable_Parte_2.ipynb\" target=\"_parent\"><img src=\"https://colab.research.google.com/assets/colab-badge.svg\" alt=\"Open In Colab\"/></a>"
      ]
    },
    {
      "cell_type": "markdown",
      "metadata": {
        "id": "LYvAOR2VzHmW"
      },
      "source": [
        "\n",
        "**Diplomatura en Ciencia de Datos, Aprendizaje Automático y sus Aplicaciones**\n",
        "\n",
        "**Edición 2022**\n",
        "\n",
        "---\n",
        "\n",
        "# Trabajo práctico entregable - Parte 2"
      ]
    },
    {
      "cell_type": "code",
      "metadata": {
        "id": "Xwdfo7z20TUK"
      },
      "source": [
        "# Libraries\n",
        "import io\n",
        "import matplotlib\n",
        "import matplotlib.pyplot as plt\n",
        "import numpy\n",
        "import pandas as pd\n",
        "pd.set_option('display.float_format', '{:,.2f}'.format)\n",
        "import seaborn as sns\n",
        "sns.set_context('talk') \n",
        "import math\n",
        "from scipy import stats\n",
        "\n"
      ],
      "execution_count": null,
      "outputs": []
    },
    {
      "cell_type": "markdown",
      "metadata": {
        "id": "XY2Hl-Ma07Nn"
      },
      "source": [
        "## Lectura del dataset\n",
        "Vamos a utilizar la encuesta realizada en el anio 2020."
      ]
    },
    {
      "cell_type": "code",
      "metadata": {
        "id": "Vviv_sqXdR5W"
      },
      "source": [
        "url = 'https://cs.famaf.unc.edu.ar/~mteruel/datasets/diplodatos/sysarmy_survey_2020_processed.csv'\n",
        "df = pd.read_csv(url)"
      ],
      "execution_count": null,
      "outputs": []
    },
    {
      "cell_type": "code",
      "source": [
        "print(f'DataSet\\n Filas: {df.shape[0]}\\n Columnas: {df.shape[1]}')"
      ],
      "metadata": {
        "colab": {
          "base_uri": "https://localhost:8080/"
        },
        "id": "r1Y_Jw-ZNg0u",
        "outputId": "e7a520db-615e-40aa-9160-ee8e0a638f39"
      },
      "execution_count": null,
      "outputs": [
        {
          "output_type": "stream",
          "name": "stdout",
          "text": [
            "DataSet\n",
            " Filas: 6095\n",
            " Columnas: 48\n"
          ]
        }
      ]
    },
    {
      "cell_type": "code",
      "metadata": {
        "id": "gckNHXXLktJ4",
        "colab": {
          "base_uri": "https://localhost:8080/",
          "height": 456
        },
        "outputId": "d2c64c60-40c8-4ef8-eaa4-c9b988dc677b"
      },
      "source": [
        "df.head()"
      ],
      "execution_count": null,
      "outputs": [
        {
          "output_type": "execute_result",
          "data": {
            "text/plain": [
              "  profile_gender  profile_age work_country                    work_province  \\\n",
              "0          Mujer           26    Argentina  Ciudad Autónoma de Buenos Aires   \n",
              "1         Hombre           29    Argentina                       Corrientes   \n",
              "2          Mujer           22    Argentina  Ciudad Autónoma de Buenos Aires   \n",
              "3         Hombre           39    Argentina                       Corrientes   \n",
              "4         Hombre           32    Argentina  Ciudad Autónoma de Buenos Aires   \n",
              "\n",
              "   profile_years_experience  work_years_in_company  \\\n",
              "0                      3.00                   3.00   \n",
              "1                      5.00                   2.00   \n",
              "2                      2.00                   0.00   \n",
              "3                     15.00                  15.00   \n",
              "4                      9.00                   6.00   \n",
              "\n",
              "   work_years_in_current_position  work_people_in_charge_of  \\\n",
              "0                            3.00                         0   \n",
              "1                            2.00                         4   \n",
              "2                            0.00                         0   \n",
              "3                           13.00                         5   \n",
              "4                            6.00                         0   \n",
              "\n",
              "  profile_studies_level profile_studies_level_state  ...  \\\n",
              "0         Universitario                    En curso  ...   \n",
              "1         Universitario                    En curso  ...   \n",
              "2            Secundario                  Completado  ...   \n",
              "3              Posgrado                  Incompleto  ...   \n",
              "4         Universitario                    En curso  ...   \n",
              "\n",
              "  work_has_violence_situations profile_sexual_orientation  \\\n",
              "0         En mi trabajo actual                 Homosexual   \n",
              "1                        Jamás               Heterosexual   \n",
              "2       En un trabajo anterior           Bisexual o queer   \n",
              "3         En mi trabajo actual               Heterosexual   \n",
              "4                        Jamás               Heterosexual   \n",
              "\n",
              "  profile_has_disabilities profile_has_disabilities_hiring_difficulties  \\\n",
              "0                      NaN                                          NaN   \n",
              "1                   Visual                                           No   \n",
              "2                      NaN                                           No   \n",
              "3                      NaN                                          NaN   \n",
              "4                      NaN                                          NaN   \n",
              "\n",
              "  company_employee_number                          company_main_activity  \\\n",
              "0                501-1000  Servicios / Consultoría de Software / Digital   \n",
              "1                 201-500                               Otras industrias   \n",
              "2               2001-5000                               Otras industrias   \n",
              "3                501-1000                               Otras industrias   \n",
              "4                   11-50  Servicios / Consultoría de Software / Digital   \n",
              "\n",
              "  company_recommended company_diversity_policies  \\\n",
              "0                   7                          2   \n",
              "1                   8                          9   \n",
              "2                   6                          9   \n",
              "3                   7                          6   \n",
              "4                   6                          6   \n",
              "\n",
              "                              company_extra_benefits  \\\n",
              "0  Capacitaciones y/o cursos, Comidas pagas / sub...   \n",
              "1  Horarios flexibles, Stock options / RSUs, Viát...   \n",
              "2  Clases de gimnasia online, Comidas pagas / sub...   \n",
              "3  Abono de celular, Capacitaciones y/o cursos, C...   \n",
              "4  Clases de idiomas, Horarios flexibles, Vacacio...   \n",
              "\n",
              "  company_best_companies_city  \n",
              "0                         NaN  \n",
              "1                         NaN  \n",
              "2                         NaN  \n",
              "3                         NaN  \n",
              "4                         NaN  \n",
              "\n",
              "[5 rows x 48 columns]"
            ],
            "text/html": [
              "\n",
              "  <div id=\"df-4ed86699-b0a6-4d29-87b4-ac4c056d2d4f\">\n",
              "    <div class=\"colab-df-container\">\n",
              "      <div>\n",
              "<style scoped>\n",
              "    .dataframe tbody tr th:only-of-type {\n",
              "        vertical-align: middle;\n",
              "    }\n",
              "\n",
              "    .dataframe tbody tr th {\n",
              "        vertical-align: top;\n",
              "    }\n",
              "\n",
              "    .dataframe thead th {\n",
              "        text-align: right;\n",
              "    }\n",
              "</style>\n",
              "<table border=\"1\" class=\"dataframe\">\n",
              "  <thead>\n",
              "    <tr style=\"text-align: right;\">\n",
              "      <th></th>\n",
              "      <th>profile_gender</th>\n",
              "      <th>profile_age</th>\n",
              "      <th>work_country</th>\n",
              "      <th>work_province</th>\n",
              "      <th>profile_years_experience</th>\n",
              "      <th>work_years_in_company</th>\n",
              "      <th>work_years_in_current_position</th>\n",
              "      <th>work_people_in_charge_of</th>\n",
              "      <th>profile_studies_level</th>\n",
              "      <th>profile_studies_level_state</th>\n",
              "      <th>...</th>\n",
              "      <th>work_has_violence_situations</th>\n",
              "      <th>profile_sexual_orientation</th>\n",
              "      <th>profile_has_disabilities</th>\n",
              "      <th>profile_has_disabilities_hiring_difficulties</th>\n",
              "      <th>company_employee_number</th>\n",
              "      <th>company_main_activity</th>\n",
              "      <th>company_recommended</th>\n",
              "      <th>company_diversity_policies</th>\n",
              "      <th>company_extra_benefits</th>\n",
              "      <th>company_best_companies_city</th>\n",
              "    </tr>\n",
              "  </thead>\n",
              "  <tbody>\n",
              "    <tr>\n",
              "      <th>0</th>\n",
              "      <td>Mujer</td>\n",
              "      <td>26</td>\n",
              "      <td>Argentina</td>\n",
              "      <td>Ciudad Autónoma de Buenos Aires</td>\n",
              "      <td>3.00</td>\n",
              "      <td>3.00</td>\n",
              "      <td>3.00</td>\n",
              "      <td>0</td>\n",
              "      <td>Universitario</td>\n",
              "      <td>En curso</td>\n",
              "      <td>...</td>\n",
              "      <td>En mi trabajo actual</td>\n",
              "      <td>Homosexual</td>\n",
              "      <td>NaN</td>\n",
              "      <td>NaN</td>\n",
              "      <td>501-1000</td>\n",
              "      <td>Servicios / Consultoría de Software / Digital</td>\n",
              "      <td>7</td>\n",
              "      <td>2</td>\n",
              "      <td>Capacitaciones y/o cursos, Comidas pagas / sub...</td>\n",
              "      <td>NaN</td>\n",
              "    </tr>\n",
              "    <tr>\n",
              "      <th>1</th>\n",
              "      <td>Hombre</td>\n",
              "      <td>29</td>\n",
              "      <td>Argentina</td>\n",
              "      <td>Corrientes</td>\n",
              "      <td>5.00</td>\n",
              "      <td>2.00</td>\n",
              "      <td>2.00</td>\n",
              "      <td>4</td>\n",
              "      <td>Universitario</td>\n",
              "      <td>En curso</td>\n",
              "      <td>...</td>\n",
              "      <td>Jamás</td>\n",
              "      <td>Heterosexual</td>\n",
              "      <td>Visual</td>\n",
              "      <td>No</td>\n",
              "      <td>201-500</td>\n",
              "      <td>Otras industrias</td>\n",
              "      <td>8</td>\n",
              "      <td>9</td>\n",
              "      <td>Horarios flexibles, Stock options / RSUs, Viát...</td>\n",
              "      <td>NaN</td>\n",
              "    </tr>\n",
              "    <tr>\n",
              "      <th>2</th>\n",
              "      <td>Mujer</td>\n",
              "      <td>22</td>\n",
              "      <td>Argentina</td>\n",
              "      <td>Ciudad Autónoma de Buenos Aires</td>\n",
              "      <td>2.00</td>\n",
              "      <td>0.00</td>\n",
              "      <td>0.00</td>\n",
              "      <td>0</td>\n",
              "      <td>Secundario</td>\n",
              "      <td>Completado</td>\n",
              "      <td>...</td>\n",
              "      <td>En un trabajo anterior</td>\n",
              "      <td>Bisexual o queer</td>\n",
              "      <td>NaN</td>\n",
              "      <td>No</td>\n",
              "      <td>2001-5000</td>\n",
              "      <td>Otras industrias</td>\n",
              "      <td>6</td>\n",
              "      <td>9</td>\n",
              "      <td>Clases de gimnasia online, Comidas pagas / sub...</td>\n",
              "      <td>NaN</td>\n",
              "    </tr>\n",
              "    <tr>\n",
              "      <th>3</th>\n",
              "      <td>Hombre</td>\n",
              "      <td>39</td>\n",
              "      <td>Argentina</td>\n",
              "      <td>Corrientes</td>\n",
              "      <td>15.00</td>\n",
              "      <td>15.00</td>\n",
              "      <td>13.00</td>\n",
              "      <td>5</td>\n",
              "      <td>Posgrado</td>\n",
              "      <td>Incompleto</td>\n",
              "      <td>...</td>\n",
              "      <td>En mi trabajo actual</td>\n",
              "      <td>Heterosexual</td>\n",
              "      <td>NaN</td>\n",
              "      <td>NaN</td>\n",
              "      <td>501-1000</td>\n",
              "      <td>Otras industrias</td>\n",
              "      <td>7</td>\n",
              "      <td>6</td>\n",
              "      <td>Abono de celular, Capacitaciones y/o cursos, C...</td>\n",
              "      <td>NaN</td>\n",
              "    </tr>\n",
              "    <tr>\n",
              "      <th>4</th>\n",
              "      <td>Hombre</td>\n",
              "      <td>32</td>\n",
              "      <td>Argentina</td>\n",
              "      <td>Ciudad Autónoma de Buenos Aires</td>\n",
              "      <td>9.00</td>\n",
              "      <td>6.00</td>\n",
              "      <td>6.00</td>\n",
              "      <td>0</td>\n",
              "      <td>Universitario</td>\n",
              "      <td>En curso</td>\n",
              "      <td>...</td>\n",
              "      <td>Jamás</td>\n",
              "      <td>Heterosexual</td>\n",
              "      <td>NaN</td>\n",
              "      <td>NaN</td>\n",
              "      <td>11-50</td>\n",
              "      <td>Servicios / Consultoría de Software / Digital</td>\n",
              "      <td>6</td>\n",
              "      <td>6</td>\n",
              "      <td>Clases de idiomas, Horarios flexibles, Vacacio...</td>\n",
              "      <td>NaN</td>\n",
              "    </tr>\n",
              "  </tbody>\n",
              "</table>\n",
              "<p>5 rows × 48 columns</p>\n",
              "</div>\n",
              "      <button class=\"colab-df-convert\" onclick=\"convertToInteractive('df-4ed86699-b0a6-4d29-87b4-ac4c056d2d4f')\"\n",
              "              title=\"Convert this dataframe to an interactive table.\"\n",
              "              style=\"display:none;\">\n",
              "        \n",
              "  <svg xmlns=\"http://www.w3.org/2000/svg\" height=\"24px\"viewBox=\"0 0 24 24\"\n",
              "       width=\"24px\">\n",
              "    <path d=\"M0 0h24v24H0V0z\" fill=\"none\"/>\n",
              "    <path d=\"M18.56 5.44l.94 2.06.94-2.06 2.06-.94-2.06-.94-.94-2.06-.94 2.06-2.06.94zm-11 1L8.5 8.5l.94-2.06 2.06-.94-2.06-.94L8.5 2.5l-.94 2.06-2.06.94zm10 10l.94 2.06.94-2.06 2.06-.94-2.06-.94-.94-2.06-.94 2.06-2.06.94z\"/><path d=\"M17.41 7.96l-1.37-1.37c-.4-.4-.92-.59-1.43-.59-.52 0-1.04.2-1.43.59L10.3 9.45l-7.72 7.72c-.78.78-.78 2.05 0 2.83L4 21.41c.39.39.9.59 1.41.59.51 0 1.02-.2 1.41-.59l7.78-7.78 2.81-2.81c.8-.78.8-2.07 0-2.86zM5.41 20L4 18.59l7.72-7.72 1.47 1.35L5.41 20z\"/>\n",
              "  </svg>\n",
              "      </button>\n",
              "      \n",
              "  <style>\n",
              "    .colab-df-container {\n",
              "      display:flex;\n",
              "      flex-wrap:wrap;\n",
              "      gap: 12px;\n",
              "    }\n",
              "\n",
              "    .colab-df-convert {\n",
              "      background-color: #E8F0FE;\n",
              "      border: none;\n",
              "      border-radius: 50%;\n",
              "      cursor: pointer;\n",
              "      display: none;\n",
              "      fill: #1967D2;\n",
              "      height: 32px;\n",
              "      padding: 0 0 0 0;\n",
              "      width: 32px;\n",
              "    }\n",
              "\n",
              "    .colab-df-convert:hover {\n",
              "      background-color: #E2EBFA;\n",
              "      box-shadow: 0px 1px 2px rgba(60, 64, 67, 0.3), 0px 1px 3px 1px rgba(60, 64, 67, 0.15);\n",
              "      fill: #174EA6;\n",
              "    }\n",
              "\n",
              "    [theme=dark] .colab-df-convert {\n",
              "      background-color: #3B4455;\n",
              "      fill: #D2E3FC;\n",
              "    }\n",
              "\n",
              "    [theme=dark] .colab-df-convert:hover {\n",
              "      background-color: #434B5C;\n",
              "      box-shadow: 0px 1px 3px 1px rgba(0, 0, 0, 0.15);\n",
              "      filter: drop-shadow(0px 1px 2px rgba(0, 0, 0, 0.3));\n",
              "      fill: #FFFFFF;\n",
              "    }\n",
              "  </style>\n",
              "\n",
              "      <script>\n",
              "        const buttonEl =\n",
              "          document.querySelector('#df-4ed86699-b0a6-4d29-87b4-ac4c056d2d4f button.colab-df-convert');\n",
              "        buttonEl.style.display =\n",
              "          google.colab.kernel.accessAllowed ? 'block' : 'none';\n",
              "\n",
              "        async function convertToInteractive(key) {\n",
              "          const element = document.querySelector('#df-4ed86699-b0a6-4d29-87b4-ac4c056d2d4f');\n",
              "          const dataTable =\n",
              "            await google.colab.kernel.invokeFunction('convertToInteractive',\n",
              "                                                     [key], {});\n",
              "          if (!dataTable) return;\n",
              "\n",
              "          const docLinkHtml = 'Like what you see? Visit the ' +\n",
              "            '<a target=\"_blank\" href=https://colab.research.google.com/notebooks/data_table.ipynb>data table notebook</a>'\n",
              "            + ' to learn more about interactive tables.';\n",
              "          element.innerHTML = '';\n",
              "          dataTable['output_type'] = 'display_data';\n",
              "          await google.colab.output.renderOutput(dataTable, element);\n",
              "          const docLink = document.createElement('div');\n",
              "          docLink.innerHTML = docLinkHtml;\n",
              "          element.appendChild(docLink);\n",
              "        }\n",
              "      </script>\n",
              "    </div>\n",
              "  </div>\n",
              "  "
            ]
          },
          "metadata": {},
          "execution_count": 5
        }
      ]
    },
    {
      "cell_type": "code",
      "source": [
        "df.tail()"
      ],
      "metadata": {
        "colab": {
          "base_uri": "https://localhost:8080/",
          "height": 438
        },
        "id": "exPa8am1N215",
        "outputId": "9db65163-3566-4f94-8ca1-3e93b080acb5"
      },
      "execution_count": null,
      "outputs": [
        {
          "output_type": "execute_result",
          "data": {
            "text/plain": [
              "     profile_gender  profile_age work_country  \\\n",
              "6090         Hombre           37    Argentina   \n",
              "6091         Hombre           38    Argentina   \n",
              "6092         Hombre           24    Argentina   \n",
              "6093         Hombre           28    Argentina   \n",
              "6094         Hombre           33    Argentina   \n",
              "\n",
              "                        work_province  profile_years_experience  \\\n",
              "6090  Ciudad Autónoma de Buenos Aires                     13.00   \n",
              "6091  Ciudad Autónoma de Buenos Aires                     12.00   \n",
              "6092  Ciudad Autónoma de Buenos Aires                      2.00   \n",
              "6093                         La Pampa                      5.00   \n",
              "6094                              GBA                      5.00   \n",
              "\n",
              "      work_years_in_company  work_years_in_current_position  \\\n",
              "6090                   6.00                            6.00   \n",
              "6091                   5.00                            5.00   \n",
              "6092                   2.00                            2.00   \n",
              "6093                   3.00                            2.00   \n",
              "6094                   5.00                            3.00   \n",
              "\n",
              "      work_people_in_charge_of profile_studies_level  \\\n",
              "6090                         0             Terciario   \n",
              "6091                         0         Universitario   \n",
              "6092                         0             Terciario   \n",
              "6093                         0             Terciario   \n",
              "6094                         0             Terciario   \n",
              "\n",
              "     profile_studies_level_state  ... work_has_violence_situations  \\\n",
              "6090                  Completado  ...         En mi trabajo actual   \n",
              "6091                    En curso  ...                        Jamás   \n",
              "6092                    En curso  ...                        Jamás   \n",
              "6093                    En curso  ...                        Jamás   \n",
              "6094                  Incompleto  ...                        Jamás   \n",
              "\n",
              "     profile_sexual_orientation profile_has_disabilities  \\\n",
              "6090               Heterosexual                      NaN   \n",
              "6091               Heterosexual                      NaN   \n",
              "6092               Heterosexual                      NaN   \n",
              "6093               Heterosexual                      NaN   \n",
              "6094               Heterosexual                       no   \n",
              "\n",
              "     profile_has_disabilities_hiring_difficulties company_employee_number  \\\n",
              "6090                                           No                501-1000   \n",
              "6091                                          NaN               2001-5000   \n",
              "6092                                          NaN                 201-500   \n",
              "6093                                           No                  51-100   \n",
              "6094                                           No                501-1000   \n",
              "\n",
              "                              company_main_activity company_recommended  \\\n",
              "6090                               Otras industrias                   7   \n",
              "6091                               Otras industrias                   8   \n",
              "6092                    Producto basado en Software                   7   \n",
              "6093  Servicios / Consultoría de Software / Digital                   5   \n",
              "6094                               Otras industrias                   9   \n",
              "\n",
              "     company_diversity_policies  \\\n",
              "6090                          8   \n",
              "6091                         10   \n",
              "6092                          9   \n",
              "6093                          7   \n",
              "6094                          7   \n",
              "\n",
              "                                 company_extra_benefits  \\\n",
              "6090                                           Viáticos   \n",
              "6091  Abono de celular, Capacitaciones y/o cursos, D...   \n",
              "6092  Capacitaciones y/o cursos, Clases de idiomas, ...   \n",
              "6093                          Capacitaciones y/o cursos   \n",
              "6094   Abono de celular, Comidas pagas / subvencionadas   \n",
              "\n",
              "     company_best_companies_city  \n",
              "6090                         NaN  \n",
              "6091                         NaN  \n",
              "6092               Mercado Libre  \n",
              "6093                 Solo Nubity  \n",
              "6094                         NaN  \n",
              "\n",
              "[5 rows x 48 columns]"
            ],
            "text/html": [
              "\n",
              "  <div id=\"df-117a580b-3255-408d-a3e0-b391f5bd6bc5\">\n",
              "    <div class=\"colab-df-container\">\n",
              "      <div>\n",
              "<style scoped>\n",
              "    .dataframe tbody tr th:only-of-type {\n",
              "        vertical-align: middle;\n",
              "    }\n",
              "\n",
              "    .dataframe tbody tr th {\n",
              "        vertical-align: top;\n",
              "    }\n",
              "\n",
              "    .dataframe thead th {\n",
              "        text-align: right;\n",
              "    }\n",
              "</style>\n",
              "<table border=\"1\" class=\"dataframe\">\n",
              "  <thead>\n",
              "    <tr style=\"text-align: right;\">\n",
              "      <th></th>\n",
              "      <th>profile_gender</th>\n",
              "      <th>profile_age</th>\n",
              "      <th>work_country</th>\n",
              "      <th>work_province</th>\n",
              "      <th>profile_years_experience</th>\n",
              "      <th>work_years_in_company</th>\n",
              "      <th>work_years_in_current_position</th>\n",
              "      <th>work_people_in_charge_of</th>\n",
              "      <th>profile_studies_level</th>\n",
              "      <th>profile_studies_level_state</th>\n",
              "      <th>...</th>\n",
              "      <th>work_has_violence_situations</th>\n",
              "      <th>profile_sexual_orientation</th>\n",
              "      <th>profile_has_disabilities</th>\n",
              "      <th>profile_has_disabilities_hiring_difficulties</th>\n",
              "      <th>company_employee_number</th>\n",
              "      <th>company_main_activity</th>\n",
              "      <th>company_recommended</th>\n",
              "      <th>company_diversity_policies</th>\n",
              "      <th>company_extra_benefits</th>\n",
              "      <th>company_best_companies_city</th>\n",
              "    </tr>\n",
              "  </thead>\n",
              "  <tbody>\n",
              "    <tr>\n",
              "      <th>6090</th>\n",
              "      <td>Hombre</td>\n",
              "      <td>37</td>\n",
              "      <td>Argentina</td>\n",
              "      <td>Ciudad Autónoma de Buenos Aires</td>\n",
              "      <td>13.00</td>\n",
              "      <td>6.00</td>\n",
              "      <td>6.00</td>\n",
              "      <td>0</td>\n",
              "      <td>Terciario</td>\n",
              "      <td>Completado</td>\n",
              "      <td>...</td>\n",
              "      <td>En mi trabajo actual</td>\n",
              "      <td>Heterosexual</td>\n",
              "      <td>NaN</td>\n",
              "      <td>No</td>\n",
              "      <td>501-1000</td>\n",
              "      <td>Otras industrias</td>\n",
              "      <td>7</td>\n",
              "      <td>8</td>\n",
              "      <td>Viáticos</td>\n",
              "      <td>NaN</td>\n",
              "    </tr>\n",
              "    <tr>\n",
              "      <th>6091</th>\n",
              "      <td>Hombre</td>\n",
              "      <td>38</td>\n",
              "      <td>Argentina</td>\n",
              "      <td>Ciudad Autónoma de Buenos Aires</td>\n",
              "      <td>12.00</td>\n",
              "      <td>5.00</td>\n",
              "      <td>5.00</td>\n",
              "      <td>0</td>\n",
              "      <td>Universitario</td>\n",
              "      <td>En curso</td>\n",
              "      <td>...</td>\n",
              "      <td>Jamás</td>\n",
              "      <td>Heterosexual</td>\n",
              "      <td>NaN</td>\n",
              "      <td>NaN</td>\n",
              "      <td>2001-5000</td>\n",
              "      <td>Otras industrias</td>\n",
              "      <td>8</td>\n",
              "      <td>10</td>\n",
              "      <td>Abono de celular, Capacitaciones y/o cursos, D...</td>\n",
              "      <td>NaN</td>\n",
              "    </tr>\n",
              "    <tr>\n",
              "      <th>6092</th>\n",
              "      <td>Hombre</td>\n",
              "      <td>24</td>\n",
              "      <td>Argentina</td>\n",
              "      <td>Ciudad Autónoma de Buenos Aires</td>\n",
              "      <td>2.00</td>\n",
              "      <td>2.00</td>\n",
              "      <td>2.00</td>\n",
              "      <td>0</td>\n",
              "      <td>Terciario</td>\n",
              "      <td>En curso</td>\n",
              "      <td>...</td>\n",
              "      <td>Jamás</td>\n",
              "      <td>Heterosexual</td>\n",
              "      <td>NaN</td>\n",
              "      <td>NaN</td>\n",
              "      <td>201-500</td>\n",
              "      <td>Producto basado en Software</td>\n",
              "      <td>7</td>\n",
              "      <td>9</td>\n",
              "      <td>Capacitaciones y/o cursos, Clases de idiomas, ...</td>\n",
              "      <td>Mercado Libre</td>\n",
              "    </tr>\n",
              "    <tr>\n",
              "      <th>6093</th>\n",
              "      <td>Hombre</td>\n",
              "      <td>28</td>\n",
              "      <td>Argentina</td>\n",
              "      <td>La Pampa</td>\n",
              "      <td>5.00</td>\n",
              "      <td>3.00</td>\n",
              "      <td>2.00</td>\n",
              "      <td>0</td>\n",
              "      <td>Terciario</td>\n",
              "      <td>En curso</td>\n",
              "      <td>...</td>\n",
              "      <td>Jamás</td>\n",
              "      <td>Heterosexual</td>\n",
              "      <td>NaN</td>\n",
              "      <td>No</td>\n",
              "      <td>51-100</td>\n",
              "      <td>Servicios / Consultoría de Software / Digital</td>\n",
              "      <td>5</td>\n",
              "      <td>7</td>\n",
              "      <td>Capacitaciones y/o cursos</td>\n",
              "      <td>Solo Nubity</td>\n",
              "    </tr>\n",
              "    <tr>\n",
              "      <th>6094</th>\n",
              "      <td>Hombre</td>\n",
              "      <td>33</td>\n",
              "      <td>Argentina</td>\n",
              "      <td>GBA</td>\n",
              "      <td>5.00</td>\n",
              "      <td>5.00</td>\n",
              "      <td>3.00</td>\n",
              "      <td>0</td>\n",
              "      <td>Terciario</td>\n",
              "      <td>Incompleto</td>\n",
              "      <td>...</td>\n",
              "      <td>Jamás</td>\n",
              "      <td>Heterosexual</td>\n",
              "      <td>no</td>\n",
              "      <td>No</td>\n",
              "      <td>501-1000</td>\n",
              "      <td>Otras industrias</td>\n",
              "      <td>9</td>\n",
              "      <td>7</td>\n",
              "      <td>Abono de celular, Comidas pagas / subvencionadas</td>\n",
              "      <td>NaN</td>\n",
              "    </tr>\n",
              "  </tbody>\n",
              "</table>\n",
              "<p>5 rows × 48 columns</p>\n",
              "</div>\n",
              "      <button class=\"colab-df-convert\" onclick=\"convertToInteractive('df-117a580b-3255-408d-a3e0-b391f5bd6bc5')\"\n",
              "              title=\"Convert this dataframe to an interactive table.\"\n",
              "              style=\"display:none;\">\n",
              "        \n",
              "  <svg xmlns=\"http://www.w3.org/2000/svg\" height=\"24px\"viewBox=\"0 0 24 24\"\n",
              "       width=\"24px\">\n",
              "    <path d=\"M0 0h24v24H0V0z\" fill=\"none\"/>\n",
              "    <path d=\"M18.56 5.44l.94 2.06.94-2.06 2.06-.94-2.06-.94-.94-2.06-.94 2.06-2.06.94zm-11 1L8.5 8.5l.94-2.06 2.06-.94-2.06-.94L8.5 2.5l-.94 2.06-2.06.94zm10 10l.94 2.06.94-2.06 2.06-.94-2.06-.94-.94-2.06-.94 2.06-2.06.94z\"/><path d=\"M17.41 7.96l-1.37-1.37c-.4-.4-.92-.59-1.43-.59-.52 0-1.04.2-1.43.59L10.3 9.45l-7.72 7.72c-.78.78-.78 2.05 0 2.83L4 21.41c.39.39.9.59 1.41.59.51 0 1.02-.2 1.41-.59l7.78-7.78 2.81-2.81c.8-.78.8-2.07 0-2.86zM5.41 20L4 18.59l7.72-7.72 1.47 1.35L5.41 20z\"/>\n",
              "  </svg>\n",
              "      </button>\n",
              "      \n",
              "  <style>\n",
              "    .colab-df-container {\n",
              "      display:flex;\n",
              "      flex-wrap:wrap;\n",
              "      gap: 12px;\n",
              "    }\n",
              "\n",
              "    .colab-df-convert {\n",
              "      background-color: #E8F0FE;\n",
              "      border: none;\n",
              "      border-radius: 50%;\n",
              "      cursor: pointer;\n",
              "      display: none;\n",
              "      fill: #1967D2;\n",
              "      height: 32px;\n",
              "      padding: 0 0 0 0;\n",
              "      width: 32px;\n",
              "    }\n",
              "\n",
              "    .colab-df-convert:hover {\n",
              "      background-color: #E2EBFA;\n",
              "      box-shadow: 0px 1px 2px rgba(60, 64, 67, 0.3), 0px 1px 3px 1px rgba(60, 64, 67, 0.15);\n",
              "      fill: #174EA6;\n",
              "    }\n",
              "\n",
              "    [theme=dark] .colab-df-convert {\n",
              "      background-color: #3B4455;\n",
              "      fill: #D2E3FC;\n",
              "    }\n",
              "\n",
              "    [theme=dark] .colab-df-convert:hover {\n",
              "      background-color: #434B5C;\n",
              "      box-shadow: 0px 1px 3px 1px rgba(0, 0, 0, 0.15);\n",
              "      filter: drop-shadow(0px 1px 2px rgba(0, 0, 0, 0.3));\n",
              "      fill: #FFFFFF;\n",
              "    }\n",
              "  </style>\n",
              "\n",
              "      <script>\n",
              "        const buttonEl =\n",
              "          document.querySelector('#df-117a580b-3255-408d-a3e0-b391f5bd6bc5 button.colab-df-convert');\n",
              "        buttonEl.style.display =\n",
              "          google.colab.kernel.accessAllowed ? 'block' : 'none';\n",
              "\n",
              "        async function convertToInteractive(key) {\n",
              "          const element = document.querySelector('#df-117a580b-3255-408d-a3e0-b391f5bd6bc5');\n",
              "          const dataTable =\n",
              "            await google.colab.kernel.invokeFunction('convertToInteractive',\n",
              "                                                     [key], {});\n",
              "          if (!dataTable) return;\n",
              "\n",
              "          const docLinkHtml = 'Like what you see? Visit the ' +\n",
              "            '<a target=\"_blank\" href=https://colab.research.google.com/notebooks/data_table.ipynb>data table notebook</a>'\n",
              "            + ' to learn more about interactive tables.';\n",
              "          element.innerHTML = '';\n",
              "          dataTable['output_type'] = 'display_data';\n",
              "          await google.colab.output.renderOutput(dataTable, element);\n",
              "          const docLink = document.createElement('div');\n",
              "          docLink.innerHTML = docLinkHtml;\n",
              "          element.appendChild(docLink);\n",
              "        }\n",
              "      </script>\n",
              "    </div>\n",
              "  </div>\n",
              "  "
            ]
          },
          "metadata": {},
          "execution_count": 6
        }
      ]
    },
    {
      "cell_type": "code",
      "metadata": {
        "id": "2lzmzK1NuPNT",
        "colab": {
          "base_uri": "https://localhost:8080/",
          "height": 206
        },
        "outputId": "31de18b5-163b-484b-e878-9e1901cd19e1"
      },
      "source": [
        "df[['profile_gender', 'salary_monthly_NETO']].groupby('profile_gender').describe()\n",
        "# vemos que hay los valores minimos de la columna salarios son $1 (hombres), $ 2 (mujeres) y $ 40 (otros).\n",
        "# vamos a filtrar el dataset para elimar datos que parecen estar mal ingresados.\n",
        "#tb tenemos que sacar los sueldos mayores a 1000000"
      ],
      "execution_count": null,
      "outputs": [
        {
          "output_type": "execute_result",
          "data": {
            "text/plain": [
              "               salary_monthly_NETO                                       \\\n",
              "                             count      mean        std   min       25%   \n",
              "profile_gender                                                            \n",
              "Hombre                    4,944.00 98,836.06 102,159.66  1.00 53,285.00   \n",
              "Mujer                       908.00 73,501.41  56,256.88  2.00 43,818.00   \n",
              "Otros                        31.00 95,441.35  88,635.67 40.00 39,500.00   \n",
              "\n",
              "                                                  \n",
              "                     50%        75%          max  \n",
              "profile_gender                                    \n",
              "Hombre         80,000.00 110,000.00 2,080,000.00  \n",
              "Mujer          65,000.00  92,000.00   800,000.00  \n",
              "Otros          74,000.00 117,500.00   380,000.00  "
            ],
            "text/html": [
              "\n",
              "  <div id=\"df-5937d5cf-6f05-42f7-881b-4cc0ae829681\">\n",
              "    <div class=\"colab-df-container\">\n",
              "      <div>\n",
              "<style scoped>\n",
              "    .dataframe tbody tr th:only-of-type {\n",
              "        vertical-align: middle;\n",
              "    }\n",
              "\n",
              "    .dataframe tbody tr th {\n",
              "        vertical-align: top;\n",
              "    }\n",
              "\n",
              "    .dataframe thead tr th {\n",
              "        text-align: left;\n",
              "    }\n",
              "\n",
              "    .dataframe thead tr:last-of-type th {\n",
              "        text-align: right;\n",
              "    }\n",
              "</style>\n",
              "<table border=\"1\" class=\"dataframe\">\n",
              "  <thead>\n",
              "    <tr>\n",
              "      <th></th>\n",
              "      <th colspan=\"8\" halign=\"left\">salary_monthly_NETO</th>\n",
              "    </tr>\n",
              "    <tr>\n",
              "      <th></th>\n",
              "      <th>count</th>\n",
              "      <th>mean</th>\n",
              "      <th>std</th>\n",
              "      <th>min</th>\n",
              "      <th>25%</th>\n",
              "      <th>50%</th>\n",
              "      <th>75%</th>\n",
              "      <th>max</th>\n",
              "    </tr>\n",
              "    <tr>\n",
              "      <th>profile_gender</th>\n",
              "      <th></th>\n",
              "      <th></th>\n",
              "      <th></th>\n",
              "      <th></th>\n",
              "      <th></th>\n",
              "      <th></th>\n",
              "      <th></th>\n",
              "      <th></th>\n",
              "    </tr>\n",
              "  </thead>\n",
              "  <tbody>\n",
              "    <tr>\n",
              "      <th>Hombre</th>\n",
              "      <td>4,944.00</td>\n",
              "      <td>98,836.06</td>\n",
              "      <td>102,159.66</td>\n",
              "      <td>1.00</td>\n",
              "      <td>53,285.00</td>\n",
              "      <td>80,000.00</td>\n",
              "      <td>110,000.00</td>\n",
              "      <td>2,080,000.00</td>\n",
              "    </tr>\n",
              "    <tr>\n",
              "      <th>Mujer</th>\n",
              "      <td>908.00</td>\n",
              "      <td>73,501.41</td>\n",
              "      <td>56,256.88</td>\n",
              "      <td>2.00</td>\n",
              "      <td>43,818.00</td>\n",
              "      <td>65,000.00</td>\n",
              "      <td>92,000.00</td>\n",
              "      <td>800,000.00</td>\n",
              "    </tr>\n",
              "    <tr>\n",
              "      <th>Otros</th>\n",
              "      <td>31.00</td>\n",
              "      <td>95,441.35</td>\n",
              "      <td>88,635.67</td>\n",
              "      <td>40.00</td>\n",
              "      <td>39,500.00</td>\n",
              "      <td>74,000.00</td>\n",
              "      <td>117,500.00</td>\n",
              "      <td>380,000.00</td>\n",
              "    </tr>\n",
              "  </tbody>\n",
              "</table>\n",
              "</div>\n",
              "      <button class=\"colab-df-convert\" onclick=\"convertToInteractive('df-5937d5cf-6f05-42f7-881b-4cc0ae829681')\"\n",
              "              title=\"Convert this dataframe to an interactive table.\"\n",
              "              style=\"display:none;\">\n",
              "        \n",
              "  <svg xmlns=\"http://www.w3.org/2000/svg\" height=\"24px\"viewBox=\"0 0 24 24\"\n",
              "       width=\"24px\">\n",
              "    <path d=\"M0 0h24v24H0V0z\" fill=\"none\"/>\n",
              "    <path d=\"M18.56 5.44l.94 2.06.94-2.06 2.06-.94-2.06-.94-.94-2.06-.94 2.06-2.06.94zm-11 1L8.5 8.5l.94-2.06 2.06-.94-2.06-.94L8.5 2.5l-.94 2.06-2.06.94zm10 10l.94 2.06.94-2.06 2.06-.94-2.06-.94-.94-2.06-.94 2.06-2.06.94z\"/><path d=\"M17.41 7.96l-1.37-1.37c-.4-.4-.92-.59-1.43-.59-.52 0-1.04.2-1.43.59L10.3 9.45l-7.72 7.72c-.78.78-.78 2.05 0 2.83L4 21.41c.39.39.9.59 1.41.59.51 0 1.02-.2 1.41-.59l7.78-7.78 2.81-2.81c.8-.78.8-2.07 0-2.86zM5.41 20L4 18.59l7.72-7.72 1.47 1.35L5.41 20z\"/>\n",
              "  </svg>\n",
              "      </button>\n",
              "      \n",
              "  <style>\n",
              "    .colab-df-container {\n",
              "      display:flex;\n",
              "      flex-wrap:wrap;\n",
              "      gap: 12px;\n",
              "    }\n",
              "\n",
              "    .colab-df-convert {\n",
              "      background-color: #E8F0FE;\n",
              "      border: none;\n",
              "      border-radius: 50%;\n",
              "      cursor: pointer;\n",
              "      display: none;\n",
              "      fill: #1967D2;\n",
              "      height: 32px;\n",
              "      padding: 0 0 0 0;\n",
              "      width: 32px;\n",
              "    }\n",
              "\n",
              "    .colab-df-convert:hover {\n",
              "      background-color: #E2EBFA;\n",
              "      box-shadow: 0px 1px 2px rgba(60, 64, 67, 0.3), 0px 1px 3px 1px rgba(60, 64, 67, 0.15);\n",
              "      fill: #174EA6;\n",
              "    }\n",
              "\n",
              "    [theme=dark] .colab-df-convert {\n",
              "      background-color: #3B4455;\n",
              "      fill: #D2E3FC;\n",
              "    }\n",
              "\n",
              "    [theme=dark] .colab-df-convert:hover {\n",
              "      background-color: #434B5C;\n",
              "      box-shadow: 0px 1px 3px 1px rgba(0, 0, 0, 0.15);\n",
              "      filter: drop-shadow(0px 1px 2px rgba(0, 0, 0, 0.3));\n",
              "      fill: #FFFFFF;\n",
              "    }\n",
              "  </style>\n",
              "\n",
              "      <script>\n",
              "        const buttonEl =\n",
              "          document.querySelector('#df-5937d5cf-6f05-42f7-881b-4cc0ae829681 button.colab-df-convert');\n",
              "        buttonEl.style.display =\n",
              "          google.colab.kernel.accessAllowed ? 'block' : 'none';\n",
              "\n",
              "        async function convertToInteractive(key) {\n",
              "          const element = document.querySelector('#df-5937d5cf-6f05-42f7-881b-4cc0ae829681');\n",
              "          const dataTable =\n",
              "            await google.colab.kernel.invokeFunction('convertToInteractive',\n",
              "                                                     [key], {});\n",
              "          if (!dataTable) return;\n",
              "\n",
              "          const docLinkHtml = 'Like what you see? Visit the ' +\n",
              "            '<a target=\"_blank\" href=https://colab.research.google.com/notebooks/data_table.ipynb>data table notebook</a>'\n",
              "            + ' to learn more about interactive tables.';\n",
              "          element.innerHTML = '';\n",
              "          dataTable['output_type'] = 'display_data';\n",
              "          await google.colab.output.renderOutput(dataTable, element);\n",
              "          const docLink = document.createElement('div');\n",
              "          docLink.innerHTML = docLinkHtml;\n",
              "          element.appendChild(docLink);\n",
              "        }\n",
              "      </script>\n",
              "    </div>\n",
              "  </div>\n",
              "  "
            ]
          },
          "metadata": {},
          "execution_count": 7
        }
      ]
    },
    {
      "cell_type": "markdown",
      "source": [
        "Vamos aplicar un filtro a la columna 'salary_monthly_NETO' para eliminar los datos inferiores a $18.900 tal como explicamos en el Entregable 01 ese era el monto del salario minimo vital y movil para el periodo en que se realizo la encuesta por lo cual consideramos que podria ser un buen parametro para filtrar el dataset y eliminar del analisis las entradas asociadas a salarios extremadamente bajos y probablemente mal ingresados.\n",
        "Ademas eliminamos los salarios superiores a 1000000\n"
      ],
      "metadata": {
        "id": "LLc8AsQFOspY"
      }
    },
    {
      "cell_type": "code",
      "metadata": {
        "colab": {
          "base_uri": "https://localhost:8080/",
          "height": 206
        },
        "id": "pycKJ5jWkShW",
        "outputId": "051729df-3141-4312-8424-e9c0b48168c5"
      },
      "source": [
        "# aplicamos el filtro al dataset\n",
        "condition_1 = df.salary_monthly_NETO > 18900\n",
        "condition_2 = df.salary_monthly_NETO <= 1000000\n",
        "\n",
        "df_filtered = df[condition_1 & condition_2] \n",
        "df_filtered[['profile_gender', 'salary_monthly_NETO']].groupby('profile_gender').describe()\n",
        "\n",
        "# confirmamos que luego de aplicar el filtro los salarios minimos son superiores al valor del salario_mvm"
      ],
      "execution_count": null,
      "outputs": [
        {
          "output_type": "execute_result",
          "data": {
            "text/plain": [
              "               salary_monthly_NETO                                           \\\n",
              "                             count       mean       std       min       25%   \n",
              "profile_gender                                                                \n",
              "Hombre                    4,747.00 100,465.75 87,043.60 19,000.00 56,287.50   \n",
              "Mujer                       848.00  78,487.33 54,865.09 20,000.00 49,000.00   \n",
              "Otros                        28.00 105,660.71 87,235.71 34,000.00 43,750.00   \n",
              "\n",
              "                                                  \n",
              "                     50%        75%          max  \n",
              "profile_gender                                    \n",
              "Hombre         80,900.00 110,000.00 1,000,000.00  \n",
              "Mujer          68,000.00  94,000.00   800,000.00  \n",
              "Otros          78,900.00 122,750.00   380,000.00  "
            ],
            "text/html": [
              "\n",
              "  <div id=\"df-e31f1ce6-7df8-4624-ac06-bebd649d6afd\">\n",
              "    <div class=\"colab-df-container\">\n",
              "      <div>\n",
              "<style scoped>\n",
              "    .dataframe tbody tr th:only-of-type {\n",
              "        vertical-align: middle;\n",
              "    }\n",
              "\n",
              "    .dataframe tbody tr th {\n",
              "        vertical-align: top;\n",
              "    }\n",
              "\n",
              "    .dataframe thead tr th {\n",
              "        text-align: left;\n",
              "    }\n",
              "\n",
              "    .dataframe thead tr:last-of-type th {\n",
              "        text-align: right;\n",
              "    }\n",
              "</style>\n",
              "<table border=\"1\" class=\"dataframe\">\n",
              "  <thead>\n",
              "    <tr>\n",
              "      <th></th>\n",
              "      <th colspan=\"8\" halign=\"left\">salary_monthly_NETO</th>\n",
              "    </tr>\n",
              "    <tr>\n",
              "      <th></th>\n",
              "      <th>count</th>\n",
              "      <th>mean</th>\n",
              "      <th>std</th>\n",
              "      <th>min</th>\n",
              "      <th>25%</th>\n",
              "      <th>50%</th>\n",
              "      <th>75%</th>\n",
              "      <th>max</th>\n",
              "    </tr>\n",
              "    <tr>\n",
              "      <th>profile_gender</th>\n",
              "      <th></th>\n",
              "      <th></th>\n",
              "      <th></th>\n",
              "      <th></th>\n",
              "      <th></th>\n",
              "      <th></th>\n",
              "      <th></th>\n",
              "      <th></th>\n",
              "    </tr>\n",
              "  </thead>\n",
              "  <tbody>\n",
              "    <tr>\n",
              "      <th>Hombre</th>\n",
              "      <td>4,747.00</td>\n",
              "      <td>100,465.75</td>\n",
              "      <td>87,043.60</td>\n",
              "      <td>19,000.00</td>\n",
              "      <td>56,287.50</td>\n",
              "      <td>80,900.00</td>\n",
              "      <td>110,000.00</td>\n",
              "      <td>1,000,000.00</td>\n",
              "    </tr>\n",
              "    <tr>\n",
              "      <th>Mujer</th>\n",
              "      <td>848.00</td>\n",
              "      <td>78,487.33</td>\n",
              "      <td>54,865.09</td>\n",
              "      <td>20,000.00</td>\n",
              "      <td>49,000.00</td>\n",
              "      <td>68,000.00</td>\n",
              "      <td>94,000.00</td>\n",
              "      <td>800,000.00</td>\n",
              "    </tr>\n",
              "    <tr>\n",
              "      <th>Otros</th>\n",
              "      <td>28.00</td>\n",
              "      <td>105,660.71</td>\n",
              "      <td>87,235.71</td>\n",
              "      <td>34,000.00</td>\n",
              "      <td>43,750.00</td>\n",
              "      <td>78,900.00</td>\n",
              "      <td>122,750.00</td>\n",
              "      <td>380,000.00</td>\n",
              "    </tr>\n",
              "  </tbody>\n",
              "</table>\n",
              "</div>\n",
              "      <button class=\"colab-df-convert\" onclick=\"convertToInteractive('df-e31f1ce6-7df8-4624-ac06-bebd649d6afd')\"\n",
              "              title=\"Convert this dataframe to an interactive table.\"\n",
              "              style=\"display:none;\">\n",
              "        \n",
              "  <svg xmlns=\"http://www.w3.org/2000/svg\" height=\"24px\"viewBox=\"0 0 24 24\"\n",
              "       width=\"24px\">\n",
              "    <path d=\"M0 0h24v24H0V0z\" fill=\"none\"/>\n",
              "    <path d=\"M18.56 5.44l.94 2.06.94-2.06 2.06-.94-2.06-.94-.94-2.06-.94 2.06-2.06.94zm-11 1L8.5 8.5l.94-2.06 2.06-.94-2.06-.94L8.5 2.5l-.94 2.06-2.06.94zm10 10l.94 2.06.94-2.06 2.06-.94-2.06-.94-.94-2.06-.94 2.06-2.06.94z\"/><path d=\"M17.41 7.96l-1.37-1.37c-.4-.4-.92-.59-1.43-.59-.52 0-1.04.2-1.43.59L10.3 9.45l-7.72 7.72c-.78.78-.78 2.05 0 2.83L4 21.41c.39.39.9.59 1.41.59.51 0 1.02-.2 1.41-.59l7.78-7.78 2.81-2.81c.8-.78.8-2.07 0-2.86zM5.41 20L4 18.59l7.72-7.72 1.47 1.35L5.41 20z\"/>\n",
              "  </svg>\n",
              "      </button>\n",
              "      \n",
              "  <style>\n",
              "    .colab-df-container {\n",
              "      display:flex;\n",
              "      flex-wrap:wrap;\n",
              "      gap: 12px;\n",
              "    }\n",
              "\n",
              "    .colab-df-convert {\n",
              "      background-color: #E8F0FE;\n",
              "      border: none;\n",
              "      border-radius: 50%;\n",
              "      cursor: pointer;\n",
              "      display: none;\n",
              "      fill: #1967D2;\n",
              "      height: 32px;\n",
              "      padding: 0 0 0 0;\n",
              "      width: 32px;\n",
              "    }\n",
              "\n",
              "    .colab-df-convert:hover {\n",
              "      background-color: #E2EBFA;\n",
              "      box-shadow: 0px 1px 2px rgba(60, 64, 67, 0.3), 0px 1px 3px 1px rgba(60, 64, 67, 0.15);\n",
              "      fill: #174EA6;\n",
              "    }\n",
              "\n",
              "    [theme=dark] .colab-df-convert {\n",
              "      background-color: #3B4455;\n",
              "      fill: #D2E3FC;\n",
              "    }\n",
              "\n",
              "    [theme=dark] .colab-df-convert:hover {\n",
              "      background-color: #434B5C;\n",
              "      box-shadow: 0px 1px 3px 1px rgba(0, 0, 0, 0.15);\n",
              "      filter: drop-shadow(0px 1px 2px rgba(0, 0, 0, 0.3));\n",
              "      fill: #FFFFFF;\n",
              "    }\n",
              "  </style>\n",
              "\n",
              "      <script>\n",
              "        const buttonEl =\n",
              "          document.querySelector('#df-e31f1ce6-7df8-4624-ac06-bebd649d6afd button.colab-df-convert');\n",
              "        buttonEl.style.display =\n",
              "          google.colab.kernel.accessAllowed ? 'block' : 'none';\n",
              "\n",
              "        async function convertToInteractive(key) {\n",
              "          const element = document.querySelector('#df-e31f1ce6-7df8-4624-ac06-bebd649d6afd');\n",
              "          const dataTable =\n",
              "            await google.colab.kernel.invokeFunction('convertToInteractive',\n",
              "                                                     [key], {});\n",
              "          if (!dataTable) return;\n",
              "\n",
              "          const docLinkHtml = 'Like what you see? Visit the ' +\n",
              "            '<a target=\"_blank\" href=https://colab.research.google.com/notebooks/data_table.ipynb>data table notebook</a>'\n",
              "            + ' to learn more about interactive tables.';\n",
              "          element.innerHTML = '';\n",
              "          dataTable['output_type'] = 'display_data';\n",
              "          await google.colab.output.renderOutput(dataTable, element);\n",
              "          const docLink = document.createElement('div');\n",
              "          docLink.innerHTML = docLinkHtml;\n",
              "          element.appendChild(docLink);\n",
              "        }\n",
              "      </script>\n",
              "    </div>\n",
              "  </div>\n",
              "  "
            ]
          },
          "metadata": {},
          "execution_count": 8
        }
      ]
    },
    {
      "cell_type": "code",
      "source": [
        "print(f'DataSet\\n Filas: {df_filtered.shape[0]}\\n Columnas: {df.shape[1]}')\n",
        "# Vemos que se filtraron 464 entradas correspondientes con salarios menores a $18.900"
      ],
      "metadata": {
        "colab": {
          "base_uri": "https://localhost:8080/"
        },
        "id": "WKy9W4GNWmLE",
        "outputId": "d0cd7d3a-4c62-4257-b5f0-27b52deff964"
      },
      "execution_count": null,
      "outputs": [
        {
          "output_type": "stream",
          "name": "stdout",
          "text": [
            "DataSet\n",
            " Filas: 5620\n",
            " Columnas: 48\n"
          ]
        }
      ]
    },
    {
      "cell_type": "markdown",
      "metadata": {
        "id": "co_0M_ojtmUh"
      },
      "source": [
        "## Ejercicio 1: Estimación\n",
        "\n",
        "**Consigna:**  Calcular una estimación puntual y un intervalo de confianza de nivel (1-alpha) para la resta entre la media del salario Neto para Hombres menos la media del salario Neto para otros géneros(diferencia de las medias entre el grupoA y grupoB). \n",
        "¿Cómo se relaciona este intervalo de confianza con el test de hipótesis?"
      ]
    },
    {
      "cell_type": "code",
      "source": [
        "is_man = df_filtered.profile_gender == 'Hombre' \n",
        "\n",
        "groupA = df_filtered[is_man].salary_monthly_NETO\n",
        "groupB = df_filtered[~is_man].salary_monthly_NETO"
      ],
      "metadata": {
        "id": "CopjjqBDP8z-"
      },
      "execution_count": null,
      "outputs": []
    },
    {
      "cell_type": "code",
      "source": [
        "print(type(groupA))\n",
        "print(type(groupB))"
      ],
      "metadata": {
        "colab": {
          "base_uri": "https://localhost:8080/"
        },
        "id": "dkYgTORsP-28",
        "outputId": "38154f9c-03c9-4511-da95-b18fcf129547"
      },
      "execution_count": null,
      "outputs": [
        {
          "output_type": "stream",
          "name": "stdout",
          "text": [
            "<class 'pandas.core.series.Series'>\n",
            "<class 'pandas.core.series.Series'>\n"
          ]
        }
      ]
    },
    {
      "cell_type": "code",
      "metadata": {
        "id": "0fA1RQ0upe6N",
        "colab": {
          "base_uri": "https://localhost:8080/"
        },
        "outputId": "54a38bad-fa56-4e10-9ddc-2e1294ad969a"
      },
      "source": [
        "groupA_mean = groupA.mean()\n",
        "groupA_std = groupA.std()\n",
        "groupA_var = groupA.var()\n",
        "print(f'Sueldo promedio Hombres = ${round(groupA_mean,2)}')\n",
        "print(f'Std sueldo hombres = ${round(groupA_std,2)}')\n",
        "print(f'Var sueldo hombres = ${round(groupA_var,2)}')\n",
        "\n",
        "print('\\n-----\\n')\n",
        "\n",
        "groupB_mean = groupB.mean()\n",
        "groupB_std = groupB.std()\n",
        "groupB_var = groupB.var()\n",
        "print(f'Sueldo promedio Mujeres y otros = ${round(groupB_mean,2)}')\n",
        "print(f'Std sueldo Mujeres y otros = ${round(groupB_std,2)}')\n",
        "print(f'Var sueldo Mujeres y otros = ${round(groupB_var,2)}')\n"
      ],
      "execution_count": null,
      "outputs": [
        {
          "output_type": "stream",
          "name": "stdout",
          "text": [
            "Sueldo promedio Hombres = $100465.75\n",
            "Std sueldo hombres = $87043.6\n",
            "Var sueldo hombres = $7576587857.24\n",
            "\n",
            "-----\n",
            "\n",
            "Sueldo promedio Mujeres y otros = $79355.88\n",
            "Std sueldo Mujeres y otros = $56316.53\n",
            "Var sueldo Mujeres y otros = $3171551196.51\n"
          ]
        }
      ]
    },
    {
      "cell_type": "markdown",
      "source": [
        "\n",
        "### Estimacion puntual"
      ],
      "metadata": {
        "id": "tbBsSkxywzUB"
      }
    },
    {
      "cell_type": "code",
      "source": [
        "# diferencia entre salario promedio de hombres y otros generos (mujeres y otros)\n",
        "dif_salario = groupA_mean - groupB_mean\n",
        "print(f'Estimacion puntual de la diferencia entre salario de Hombres y Otros generos: \\n${round(dif_salario,2)}')"
      ],
      "metadata": {
        "colab": {
          "base_uri": "https://localhost:8080/"
        },
        "id": "U_esXkOIYLD3",
        "outputId": "6d4acdd9-3651-4e9a-ee72-3cb4d1a5235e"
      },
      "execution_count": null,
      "outputs": [
        {
          "output_type": "stream",
          "name": "stdout",
          "text": [
            "Estimacion puntual de la diferencia entre salario de Hombres y Otros generos: \n",
            "$21109.86\n"
          ]
        }
      ]
    },
    {
      "cell_type": "markdown",
      "source": [
        "### Intervalo de confianza\n",
        "Si asumimos que las varianzas son iguales (algo que no pareciera, se podria hacer un test de homogeneidad de varianza) podemos utilizar el metodo de pivote. "
      ],
      "metadata": {
        "id": "k2Pbn_XaAx5i"
      }
    },
    {
      "cell_type": "code",
      "source": [
        "# vamos a utilizar la std de toda la muestra y el n de toda la muestra\n",
        "std_muestra = df_filtered.salary_monthly_NETO.std()\n",
        "n_muestra = df_filtered.salary_monthly_NETO.count()\n",
        "print(f'Std sueldo de toda la muestra = {round(std_muestra,2)}')\n",
        "print(f'Tamanio de toda la muestra = {n_muestra}')"
      ],
      "metadata": {
        "colab": {
          "base_uri": "https://localhost:8080/"
        },
        "id": "90uDcK-LD6bb",
        "outputId": "56edf580-7efe-4af2-ff9c-6a9fd8012cc0"
      },
      "execution_count": null,
      "outputs": [
        {
          "output_type": "stream",
          "name": "stdout",
          "text": [
            "Std sueldo de toda la muestra = 80725.24\n",
            "Tamanio de toda la muestra = 5620\n"
          ]
        }
      ]
    },
    {
      "cell_type": "code",
      "source": [
        "aplha = 0.05\n",
        "z = stats.norm.ppf(1 - alpha/2)\n",
        "print(f'z = {round(z,2)}')"
      ],
      "metadata": {
        "colab": {
          "base_uri": "https://localhost:8080/"
        },
        "id": "MmQZ8JRaRdgX",
        "outputId": "6191a04c-9acb-4352-9e06-6728cdf765fc"
      },
      "execution_count": null,
      "outputs": [
        {
          "output_type": "stream",
          "name": "stdout",
          "text": [
            "z = 1.96\n"
          ]
        }
      ]
    },
    {
      "cell_type": "code",
      "source": [
        "IC_inferior = dif_salario - z * (std_muestra / math.sqrt(n_muestra))\n",
        "IC_superior = dif_salario + z * (std_muestra / math.sqrt(n_muestra))\n",
        "print(f'Intervalo de confianza >> [{round(IC_inferior,2)} , {round(IC_superior,2)}]')\n"
      ],
      "metadata": {
        "colab": {
          "base_uri": "https://localhost:8080/"
        },
        "id": "sJJRuBV2CUhP",
        "outputId": "bea502f4-6bb6-4fe5-a56a-86be230dbbd7"
      },
      "execution_count": null,
      "outputs": [
        {
          "output_type": "stream",
          "name": "stdout",
          "text": [
            "Intervalo de confianza >> [18430.5 , 22651.54]\n"
          ]
        }
      ]
    },
    {
      "cell_type": "markdown",
      "source": [
        "### Conslusion\n",
        "Segun este resultado, asuminedo que las varianzas de los dos grupos muestrales son iguales,\n",
        "la diferencia entre el sueldo promedio de hombres y otros esta dentro del intervalo [18430.5 , 22651.54] con un nivel de confianza del 95%.\n",
        "Dado que el intervalo de confianza no incluye el valor 0 podemos inferir, con un nivel de confianza del 95% que el salario de los Hombres es superior al salario de otro generos.\n",
        "\n",
        "---"
      ],
      "metadata": {
        "id": "akPkMZD6kxqZ"
      }
    },
    {
      "cell_type": "markdown",
      "source": [
        "### ¿Las varianzas son iguales?"
      ],
      "metadata": {
        "id": "Ewq3uWyFXtD8"
      }
    },
    {
      "cell_type": "code",
      "source": [
        "groupA_var - groupB_var\n",
        "# a priori todo sugiere que las varianzas de los grupos no son iguales.\n",
        "# vamos a realizar el test de Bartlett para confirmarlo"
      ],
      "metadata": {
        "colab": {
          "base_uri": "https://localhost:8080/"
        },
        "id": "SvLTRGgkXy8v",
        "outputId": "0da010e2-43d9-4702-8fd5-05696e665315"
      },
      "execution_count": null,
      "outputs": [
        {
          "output_type": "execute_result",
          "data": {
            "text/plain": [
              "3897701441.532736"
            ]
          },
          "metadata": {},
          "execution_count": 71
        }
      ]
    },
    {
      "cell_type": "markdown",
      "source": [
        "### Test de Bartlett\n",
        "Para analizar si las varianzas de las poblaciones (Hombres y otros) son iguales o diferentes podemos utilizar el test de Bartlett"
      ],
      "metadata": {
        "id": "8kgSZrHZlVG7"
      }
    },
    {
      "cell_type": "code",
      "source": [
        "# H0 = Los grupos tienen varianzas iguales\n",
        "# H1 = Los grupos NO tienen varianzas iguales (o lo que es equivalente, los grupos tienen varianzas diferentes)\n",
        "stats.bartlett(groupA, groupB)\n",
        "\n"
      ],
      "metadata": {
        "colab": {
          "base_uri": "https://localhost:8080/"
        },
        "id": "lkSnlQS_KgTu",
        "outputId": "3daa7689-43c6-4d18-f78a-1ffaeb25618c"
      },
      "execution_count": null,
      "outputs": [
        {
          "output_type": "execute_result",
          "data": {
            "text/plain": [
              "BartlettResult(statistic=196.8428593092905, pvalue=1.0205104865339914e-44)"
            ]
          },
          "metadata": {},
          "execution_count": 72
        }
      ]
    },
    {
      "cell_type": "markdown",
      "source": [
        "### Conclusion\n",
        "Dado que pvalue=1.0205104865339914e-44 (p<0.05). Estamos en condiciones de rechazar H0. Por lo tanto los grupos NO tienen varianzas iguales.\n",
        "Por lo tanto no seria correcto aplicar el metodo de pivote para calcular el intervalo de confianza para la diferencia entre la media del salario de hombres y otros generos.\n",
        "\n",
        "---"
      ],
      "metadata": {
        "id": "FqtaPprdl6tB"
      }
    },
    {
      "cell_type": "markdown",
      "metadata": {
        "id": "IFi2T7Y6nM92"
      },
      "source": [
        "## Ejercicio 2: Test de hipótesis\n"
      ]
    },
    {
      "cell_type": "markdown",
      "metadata": {
        "id": "Rzxe8UYU6EfJ"
      },
      "source": [
        "\n",
        "### 2.1 Formalización\n",
        "\n",
        "Describir formalmente los distintos componentes de un test de hipótesis para comprobar si la distribución de los salarios es distinta entre los grupos A y B.\n",
        "\n",
        "**Hipótesis**\n",
        "\n",
        "H0 = La media del sueldo de los hombres es igual a la media del sueldo de mujeres y otros\\\n",
        "H1 = La media del sueldo de los hombres es distinta a la media del sueldo de mujeres y otros\\\n",
        "**Estadístico (Pivote)**\n",
        "  * Identificar el estadístico >>> Promedio del sueldo\n",
        "  * Escribir qué distribución tiene bajo $H_0$ >>> Normal (test de Shapiro, ver mas adelante)\n"
      ]
    },
    {
      "cell_type": "markdown",
      "metadata": {
        "id": "3Ip_5YdenC8u"
      },
      "source": [
        "### 2.2 P-valor\n",
        "\n",
        "1. Calcule el p-valor y decida si rechazar o no la hipótesis nula.\n",
        "2. Interprete el resultado.\n",
        "\n",
        "Links útiles:\n",
        "* [Test de hipótesis usando scipy](https://docs.scipy.org/doc/scipy/reference/generated/scipy.stats.ttest_ind.html)\n",
        "* [Test de Welch](http://daniellakens.blogspot.com/2015/01/always-use-welchs-t-test-instead-of.html)"
      ]
    },
    {
      "cell_type": "markdown",
      "source": [
        "### Test de Shapiro\n",
        "Vamos a utilizar el test de Shapiro para determinar si las muestras de sueldos de los dos grupos tiene o no distribucion normal"
      ],
      "metadata": {
        "id": "TmVFi1bjtaRH"
      }
    },
    {
      "cell_type": "code",
      "source": [
        "# test de Shapiro para determinar si la muestra de sueldos de hombres tiene distribucion normal  \n",
        "stats.shapiro(groupA)\n",
        "\n",
        "# El resultado se lee asi (estadistico W, p-value).\n",
        "# Como el p-value es menor a 0,05 podemos afirmar que la muestra tiene distribucion normal\n"
      ],
      "metadata": {
        "colab": {
          "base_uri": "https://localhost:8080/"
        },
        "id": "T65Gff3QNiN4",
        "outputId": "51ed63f7-8092-4cbe-e178-7d354e289cc9"
      },
      "execution_count": null,
      "outputs": [
        {
          "output_type": "execute_result",
          "data": {
            "text/plain": [
              "(0.6183677315711975, 0.0)"
            ]
          },
          "metadata": {},
          "execution_count": 73
        }
      ]
    },
    {
      "cell_type": "code",
      "source": [
        "# test de Shapiro para determinar si la muestra de sueldos de otros tiene distribucion normal\n",
        "stats.shapiro(groupB)\n",
        "\n",
        "# El resultado se lee asi (estadistico W, p-value).\n",
        "# Como el p-value es menor a 0,05 podemos afirmar que la muestra tiene distribucion normal"
      ],
      "metadata": {
        "colab": {
          "base_uri": "https://localhost:8080/"
        },
        "id": "NUnuiqTqNooE",
        "outputId": "cc2a6795-3bdf-487b-a16c-e05097aeea34"
      },
      "execution_count": null,
      "outputs": [
        {
          "output_type": "execute_result",
          "data": {
            "text/plain": [
              "(0.6167652606964111, 3.4045386969850026e-40)"
            ]
          },
          "metadata": {},
          "execution_count": 74
        }
      ]
    },
    {
      "cell_type": "markdown",
      "source": [
        "### Conclusion\n",
        "En ambos casos el p-value es menor a 0,05. Por lo tanto podemos inferir, con nivel de confianza del 95% que las dos muestras tienen distribucion normal.\n",
        "\n",
        "---"
      ],
      "metadata": {
        "id": "4btK5xxKtprX"
      }
    },
    {
      "cell_type": "markdown",
      "source": [
        "## Test de Welch"
      ],
      "metadata": {
        "id": "EDQnlKOHbY0M"
      }
    },
    {
      "cell_type": "code",
      "source": [
        "# como los sueldos de ambos grupos tienen distribucion normal podemos aplicar el test de Welch.\n",
        "# El test de Welch se aplica usando .ttest_ind(equal_var = False)\n",
        "stats.ttest_ind(groupA, groupB, equal_var = False)\n",
        "\n",
        "# como el p-value<0.05 podemos rechazar H0 (los sueldos de los dos grupos son iguales) y quedarnos con H1 (los sueldos de ambos grupos son diferentes)"
      ],
      "metadata": {
        "colab": {
          "base_uri": "https://localhost:8080/"
        },
        "id": "TRr3T538OfNZ",
        "outputId": "c112533f-6353-4bef-c77e-212b6bb82c26"
      },
      "execution_count": null,
      "outputs": [
        {
          "output_type": "execute_result",
          "data": {
            "text/plain": [
              "Ttest_indResult(statistic=9.242572493015457, pvalue=6.749628469422985e-20)"
            ]
          },
          "metadata": {},
          "execution_count": 15
        }
      ]
    },
    {
      "cell_type": "markdown",
      "source": [
        "### Conclusion\n",
        "como el p-value<0.05 podemos rechazar H0 (los sueldos de los dos grupos son iguales) y quedarnos con H1 (los sueldos de ambos grupos son diferentes).\n",
        "\n",
        "---"
      ],
      "metadata": {
        "id": "5dkv5IQ3uBNI"
      }
    },
    {
      "cell_type": "markdown",
      "metadata": {
        "id": "8VxiQr5YrQYR"
      },
      "source": [
        "### [Opcional] 2.3 Potencia del test\n",
        "\n",
        "Nuestra muestra, ¿era lo suficientemente grande para detectar si existe o no una diferencia entre los grupos?\n",
        "\n",
        "1. Utilice la función `tt_ind_solve_power` para calcular el tamaño necesario de la muestra para un poder estadístico de 0.8, 0.9 y 0.95, asumiendo una significancia estadística de 0.05.\n",
        "2. ¿Cómo intepretan el poder estadístico de un test? Dado su conocimiento de dominio sobre los datos, ¿les parece que esta muestra es lo suficientemente grande para ser representativo de la tendencia general? ¿y para utilizarlo en un juicio penal contra una empresa XX por una causa de discriminación?\n",
        "\n",
        "[Documentación](https://www.statsmodels.org/stable/generated/statsmodels.stats.power.tt_ind_solve_power.html)\n",
        "\n",
        "NOTA: este análisis debería hacerse ANTES de recolectar los datos."
      ]
    },
    {
      "cell_type": "markdown",
      "source": [
        ""
      ],
      "metadata": {
        "id": "pdmGOGuFOcjl"
      }
    },
    {
      "cell_type": "markdown",
      "metadata": {
        "id": "useKMdPyMod5"
      },
      "source": [
        "## Ejercicio 3: Comunicación y visualización\n",
        "\n",
        "**Consigna:** Seleccionen un resultado que les parezca relevante a partir de alguno de los ejercicios del entregable. Diseñe e implemente una comunicación en base a este mensaje, en un archivo PDF.\n",
        "\n",
        "Elija las palabras y visualización más adecuada para que la comunicación sea entendible, efectiva y se dapte a UNA de las siguientes situaciones:\n",
        "\n",
        "1. Una sección en un artículo de difusión a presentar como parte de una organización sin fines de lucro.\n",
        "No más de 1 página A4 (o dos si los gráficos son muy grandes).\n",
        "  1. Ejemplo: Alguna de las secciones [Los ecosistemas de emprendimiento de América Latina y el Caribe frente al COVID-19: Impactos, necesidades y recomendaciones](https://publications.iadb.org/es/los-ecosistemas-de-emprendimiento-de-america-latina-y-el-caribe-frente-al-covid-19-impactos-necesidades-y-recomendaciones), por ejemplo la sección *2.2. Reacciones de los emprendedores*.\n",
        "  2. Ejemplo: Alguna de las secciones de [The state of gender pay gap in 2021](https://www.payscale.com/data/gender-pay-gap?tk=carousel-ps-rc-job)\n",
        "  3. Puntos clave: \n",
        "    1. Simpleza de los gráficos.\n",
        "    2. Comunicación en lenguaje simple a personas que no son necesariamente expertos de dominio.\n",
        "    2. Selección de UNA oración sobre la que se hace énfasis.\n",
        "    3. No es necesario que mencionen objetivos ni descripciones del conjunto de datos, se supone que eso ya estaría explicado en otras secciones del informe.\n",
        "\n",
        "2. Una publicación científica o reporte técnico interno. No más de una página A4:\n",
        "  2. Ejemplo: La sección de resultados de [IZA DP No. 12914: The Impact of a Minimum Wage Change on the Distribution of Wages and Household Income](https://www.iza.org/publications/dp/12914/the-impact-of-a-minimum-wage-change-on-the-distribution-of-wages-and-household-income).\n",
        "  2. Ejemplo: Alguna de las secciones de [Temporary reduction in daily global CO2 emissions during the COVID-19 forced confinement](https://www.nature.com/articles/s41558-020-0797-x)\n",
        "  3. Puntos clave:\n",
        "    3. Nivel de detalle técnico requerido. Es necesario justificar la validez del análisis.\n",
        "    4. La idea presentada puede ser más compleja. Pueden asumir que la audiencia tiene conocimiento técnico y va a analizar las visualizaciones en detalle. \n",
        "    5. Pueden presentar más en detalle las limitaciones del análisis (significancia estadística, etc.)\n",
        "    2. No es necesario que mencionen objetivos ni descripciones del conjunto de datos, se supone que eso ya estaría explicado en otras secciones del informe.\n",
        "\n",
        "3. Un tweet (o post de LinkedIn) para la cuenta de su empresa consultora que hace análisis de datos. El objetivo es promocionar un análisis de datos abiertos que van a incluir en su portfolio:\n",
        "  1. Ejemplo: [Comparación vacunas covid](https://twitter.com/infobeautiful/status/1381577746527236098?s=20)\n",
        "  2. Ejemplo: [Tweet del BID](https://twitter.com/el_BID/status/1388508583944507396?s=20). Lo valioso de este tweet es que usaron un único número para transmitir un mensaje. Puede ser algo así, o con un gráfico muy simple.\n",
        "  3. Ejemplo: [Cambio climático](https://twitter.com/UNFCCC/status/1387732156190011394?s=20) Es un muy buen ejemplo, excepto que el gráfico no se lee nada y hay que entrar a la publicación original.\n",
        "  3. Ejemplo: [¿Cuánto están los programadores en las empresas?](https://www.linkedin.com/posts/denis-rothman-0b034043_tech-career-work-activity-6793861923269054464-gS6y) (No verificamos la veracidad o seriedad de la fuente).\n",
        "  4. Puntos clave:\n",
        "    1. Su audiencia no va a mirar la visualización por más de unos segundos, y no tiene conocimiento técnico.\n",
        "  3. Tienen que incluir además una *breve* descripción de cómo obtuvieron los datos que están presentando, que no entraría en el tweet.\n"
      ]
    },
    {
      "cell_type": "code",
      "metadata": {
        "id": "twwYHUztt45L"
      },
      "source": [
        ""
      ],
      "execution_count": null,
      "outputs": []
    }
  ]
}